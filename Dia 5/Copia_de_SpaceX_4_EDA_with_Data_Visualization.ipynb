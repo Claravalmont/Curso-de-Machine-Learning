{
  "cells": [
    {
      "cell_type": "markdown",
      "metadata": {
        "id": "BjnOaKkIcQ-x"
      },
      "source": [
        "# **Etapa 4: Visualización de datos**\n"
      ]
    },
    {
      "cell_type": "markdown",
      "metadata": {
        "id": "oWfJASQvcQ-x"
      },
      "source": [
        "## Objetivos:\n",
        "Realizar la visualización de datos y análizar los resultados para observar si coinciden con nuestros análisis anteriores.\n"
      ]
    },
    {
      "cell_type": "markdown",
      "metadata": {
        "id": "SVXrPWFOcQ-0"
      },
      "source": [
        "***\n"
      ]
    },
    {
      "cell_type": "markdown",
      "metadata": {
        "id": "CbEqYa5ocQ-1"
      },
      "source": [
        "### Importación de librerias."
      ]
    },
    {
      "cell_type": "code",
      "execution_count": 1,
      "metadata": {
        "id": "Sc39q0vqcQ-1"
      },
      "outputs": [],
      "source": [
        "import pandas as pd\n",
        "import numpy as np\n",
        "import matplotlib.pyplot as plt\n",
        "import seaborn as sns"
      ]
    },
    {
      "cell_type": "markdown",
      "metadata": {
        "id": "Y_-SIJHOcQ-3"
      },
      "source": [
        "## Tarea 1: Ejemplo\n"
      ]
    },
    {
      "cell_type": "markdown",
      "metadata": {
        "id": "L60G3oG1cQ-4"
      },
      "source": [
        "Primero importamos los datos."
      ]
    },
    {
      "cell_type": "code",
      "execution_count": 2,
      "metadata": {
        "colab": {
          "base_uri": "https://localhost:8080/",
          "height": 696
        },
        "id": "59kO-irycQ-4",
        "outputId": "d2b4d6ba-419c-4f73-d655-a7f492adb4d6"
      },
      "outputs": [
        {
          "output_type": "execute_result",
          "data": {
            "text/plain": [
              "    FlightNumber        Date BoosterVersion   PayloadMass  \\\n",
              "0              1  2010-06-04       Falcon 9   6123.547647   \n",
              "1              2  2012-05-22       Falcon 9    525.000000   \n",
              "2              3  2013-03-01       Falcon 9    677.000000   \n",
              "3              4  2013-09-29       Falcon 9    500.000000   \n",
              "4              5  2013-12-03       Falcon 9   3170.000000   \n",
              "..           ...         ...            ...           ...   \n",
              "85            86  2020-09-03       Falcon 9  15600.000000   \n",
              "86            87  2020-10-06       Falcon 9  15600.000000   \n",
              "87            88  2020-10-18       Falcon 9  15600.000000   \n",
              "88            89  2020-10-24       Falcon 9  15600.000000   \n",
              "89            90  2020-11-05       Falcon 9   3681.000000   \n",
              "\n",
              "                      Payload Orbit    LaunchSite LandingOutcome  Flights  \\\n",
              "0   Dragon Qualification Unit   LEO  CCSFS SLC 40      None None        1   \n",
              "1          COTS Demo Flight 2   LEO  CCSFS SLC 40      None None        1   \n",
              "2                       CRS-2   ISS  CCSFS SLC 40      None None        1   \n",
              "3                    CASSIOPE    PO   VAFB SLC 4E    False Ocean        1   \n",
              "4                       SES-8   GTO  CCSFS SLC 40      None None        1   \n",
              "..                        ...   ...           ...            ...      ...   \n",
              "85                Starlink-11  VLEO    KSC LC 39A      True ASDS        2   \n",
              "86                Starlink-12  VLEO    KSC LC 39A      True ASDS        3   \n",
              "87                Starlink-13  VLEO    KSC LC 39A      True ASDS        6   \n",
              "88                Starlink-14  VLEO  CCSFS SLC 40      True ASDS        3   \n",
              "89   GPS III SV04 (Sacagawea)   MEO  CCSFS SLC 40      True ASDS        1   \n",
              "\n",
              "    GridFins  ...   Legs                LandingPad Block  \\\n",
              "0      False  ...  False                       NaN   1.0   \n",
              "1      False  ...  False                       NaN   1.0   \n",
              "2      False  ...  False                       NaN   1.0   \n",
              "3      False  ...  False                       NaN   1.0   \n",
              "4      False  ...  False                       NaN   1.0   \n",
              "..       ...  ...    ...                       ...   ...   \n",
              "85      True  ...   True  5e9e3032383ecb6bb234e7ca   5.0   \n",
              "86      True  ...   True  5e9e3032383ecb6bb234e7ca   5.0   \n",
              "87      True  ...   True  5e9e3032383ecb6bb234e7ca   5.0   \n",
              "88      True  ...   True  5e9e3033383ecbb9e534e7cc   5.0   \n",
              "89      True  ...   True  5e9e3032383ecb6bb234e7ca   5.0   \n",
              "\n",
              "                    Customers Mission_Outcome  ReusedCount  Serial  \\\n",
              "0                      SpaceX            True            0   B0003   \n",
              "1                  NASA(COTS)            True            0   B0005   \n",
              "2                  NASA (CRS)            True            0   B0007   \n",
              "3                         MDA            True            0   B1003   \n",
              "4                         SES            True            0   B1004   \n",
              "..                        ...             ...          ...     ...   \n",
              "85                     SpaceX            True           12   B1060   \n",
              "86                     SpaceX            True           13   B1058   \n",
              "87                     SpaceX            True           12   B1051   \n",
              "88                     SpaceX            True           12   B1060   \n",
              "89  United States Space Force            True            8   B1062   \n",
              "\n",
              "     Longitude   Latitude  Class  \n",
              "0   -80.577366  28.561857      0  \n",
              "1   -80.577366  28.561857      0  \n",
              "2   -80.577366  28.561857      0  \n",
              "3  -120.610829  34.632093      0  \n",
              "4   -80.577366  28.561857      0  \n",
              "..         ...        ...    ...  \n",
              "85  -80.603956  28.608058      1  \n",
              "86  -80.603956  28.608058      1  \n",
              "87  -80.603956  28.608058      1  \n",
              "88  -80.577366  28.561857      1  \n",
              "89  -80.577366  28.561857      1  \n",
              "\n",
              "[90 rows x 21 columns]"
            ],
            "text/html": [
              "\n",
              "  <div id=\"df-e3e16b13-3c70-475f-b074-d8967d4707cf\">\n",
              "    <div class=\"colab-df-container\">\n",
              "      <div>\n",
              "<style scoped>\n",
              "    .dataframe tbody tr th:only-of-type {\n",
              "        vertical-align: middle;\n",
              "    }\n",
              "\n",
              "    .dataframe tbody tr th {\n",
              "        vertical-align: top;\n",
              "    }\n",
              "\n",
              "    .dataframe thead th {\n",
              "        text-align: right;\n",
              "    }\n",
              "</style>\n",
              "<table border=\"1\" class=\"dataframe\">\n",
              "  <thead>\n",
              "    <tr style=\"text-align: right;\">\n",
              "      <th></th>\n",
              "      <th>FlightNumber</th>\n",
              "      <th>Date</th>\n",
              "      <th>BoosterVersion</th>\n",
              "      <th>PayloadMass</th>\n",
              "      <th>Payload</th>\n",
              "      <th>Orbit</th>\n",
              "      <th>LaunchSite</th>\n",
              "      <th>LandingOutcome</th>\n",
              "      <th>Flights</th>\n",
              "      <th>GridFins</th>\n",
              "      <th>...</th>\n",
              "      <th>Legs</th>\n",
              "      <th>LandingPad</th>\n",
              "      <th>Block</th>\n",
              "      <th>Customers</th>\n",
              "      <th>Mission_Outcome</th>\n",
              "      <th>ReusedCount</th>\n",
              "      <th>Serial</th>\n",
              "      <th>Longitude</th>\n",
              "      <th>Latitude</th>\n",
              "      <th>Class</th>\n",
              "    </tr>\n",
              "  </thead>\n",
              "  <tbody>\n",
              "    <tr>\n",
              "      <th>0</th>\n",
              "      <td>1</td>\n",
              "      <td>2010-06-04</td>\n",
              "      <td>Falcon 9</td>\n",
              "      <td>6123.547647</td>\n",
              "      <td>Dragon Qualification Unit</td>\n",
              "      <td>LEO</td>\n",
              "      <td>CCSFS SLC 40</td>\n",
              "      <td>None None</td>\n",
              "      <td>1</td>\n",
              "      <td>False</td>\n",
              "      <td>...</td>\n",
              "      <td>False</td>\n",
              "      <td>NaN</td>\n",
              "      <td>1.0</td>\n",
              "      <td>SpaceX</td>\n",
              "      <td>True</td>\n",
              "      <td>0</td>\n",
              "      <td>B0003</td>\n",
              "      <td>-80.577366</td>\n",
              "      <td>28.561857</td>\n",
              "      <td>0</td>\n",
              "    </tr>\n",
              "    <tr>\n",
              "      <th>1</th>\n",
              "      <td>2</td>\n",
              "      <td>2012-05-22</td>\n",
              "      <td>Falcon 9</td>\n",
              "      <td>525.000000</td>\n",
              "      <td>COTS Demo Flight 2</td>\n",
              "      <td>LEO</td>\n",
              "      <td>CCSFS SLC 40</td>\n",
              "      <td>None None</td>\n",
              "      <td>1</td>\n",
              "      <td>False</td>\n",
              "      <td>...</td>\n",
              "      <td>False</td>\n",
              "      <td>NaN</td>\n",
              "      <td>1.0</td>\n",
              "      <td>NASA(COTS)</td>\n",
              "      <td>True</td>\n",
              "      <td>0</td>\n",
              "      <td>B0005</td>\n",
              "      <td>-80.577366</td>\n",
              "      <td>28.561857</td>\n",
              "      <td>0</td>\n",
              "    </tr>\n",
              "    <tr>\n",
              "      <th>2</th>\n",
              "      <td>3</td>\n",
              "      <td>2013-03-01</td>\n",
              "      <td>Falcon 9</td>\n",
              "      <td>677.000000</td>\n",
              "      <td>CRS-2</td>\n",
              "      <td>ISS</td>\n",
              "      <td>CCSFS SLC 40</td>\n",
              "      <td>None None</td>\n",
              "      <td>1</td>\n",
              "      <td>False</td>\n",
              "      <td>...</td>\n",
              "      <td>False</td>\n",
              "      <td>NaN</td>\n",
              "      <td>1.0</td>\n",
              "      <td>NASA (CRS)</td>\n",
              "      <td>True</td>\n",
              "      <td>0</td>\n",
              "      <td>B0007</td>\n",
              "      <td>-80.577366</td>\n",
              "      <td>28.561857</td>\n",
              "      <td>0</td>\n",
              "    </tr>\n",
              "    <tr>\n",
              "      <th>3</th>\n",
              "      <td>4</td>\n",
              "      <td>2013-09-29</td>\n",
              "      <td>Falcon 9</td>\n",
              "      <td>500.000000</td>\n",
              "      <td>CASSIOPE</td>\n",
              "      <td>PO</td>\n",
              "      <td>VAFB SLC 4E</td>\n",
              "      <td>False Ocean</td>\n",
              "      <td>1</td>\n",
              "      <td>False</td>\n",
              "      <td>...</td>\n",
              "      <td>False</td>\n",
              "      <td>NaN</td>\n",
              "      <td>1.0</td>\n",
              "      <td>MDA</td>\n",
              "      <td>True</td>\n",
              "      <td>0</td>\n",
              "      <td>B1003</td>\n",
              "      <td>-120.610829</td>\n",
              "      <td>34.632093</td>\n",
              "      <td>0</td>\n",
              "    </tr>\n",
              "    <tr>\n",
              "      <th>4</th>\n",
              "      <td>5</td>\n",
              "      <td>2013-12-03</td>\n",
              "      <td>Falcon 9</td>\n",
              "      <td>3170.000000</td>\n",
              "      <td>SES-8</td>\n",
              "      <td>GTO</td>\n",
              "      <td>CCSFS SLC 40</td>\n",
              "      <td>None None</td>\n",
              "      <td>1</td>\n",
              "      <td>False</td>\n",
              "      <td>...</td>\n",
              "      <td>False</td>\n",
              "      <td>NaN</td>\n",
              "      <td>1.0</td>\n",
              "      <td>SES</td>\n",
              "      <td>True</td>\n",
              "      <td>0</td>\n",
              "      <td>B1004</td>\n",
              "      <td>-80.577366</td>\n",
              "      <td>28.561857</td>\n",
              "      <td>0</td>\n",
              "    </tr>\n",
              "    <tr>\n",
              "      <th>...</th>\n",
              "      <td>...</td>\n",
              "      <td>...</td>\n",
              "      <td>...</td>\n",
              "      <td>...</td>\n",
              "      <td>...</td>\n",
              "      <td>...</td>\n",
              "      <td>...</td>\n",
              "      <td>...</td>\n",
              "      <td>...</td>\n",
              "      <td>...</td>\n",
              "      <td>...</td>\n",
              "      <td>...</td>\n",
              "      <td>...</td>\n",
              "      <td>...</td>\n",
              "      <td>...</td>\n",
              "      <td>...</td>\n",
              "      <td>...</td>\n",
              "      <td>...</td>\n",
              "      <td>...</td>\n",
              "      <td>...</td>\n",
              "      <td>...</td>\n",
              "    </tr>\n",
              "    <tr>\n",
              "      <th>85</th>\n",
              "      <td>86</td>\n",
              "      <td>2020-09-03</td>\n",
              "      <td>Falcon 9</td>\n",
              "      <td>15600.000000</td>\n",
              "      <td>Starlink-11</td>\n",
              "      <td>VLEO</td>\n",
              "      <td>KSC LC 39A</td>\n",
              "      <td>True ASDS</td>\n",
              "      <td>2</td>\n",
              "      <td>True</td>\n",
              "      <td>...</td>\n",
              "      <td>True</td>\n",
              "      <td>5e9e3032383ecb6bb234e7ca</td>\n",
              "      <td>5.0</td>\n",
              "      <td>SpaceX</td>\n",
              "      <td>True</td>\n",
              "      <td>12</td>\n",
              "      <td>B1060</td>\n",
              "      <td>-80.603956</td>\n",
              "      <td>28.608058</td>\n",
              "      <td>1</td>\n",
              "    </tr>\n",
              "    <tr>\n",
              "      <th>86</th>\n",
              "      <td>87</td>\n",
              "      <td>2020-10-06</td>\n",
              "      <td>Falcon 9</td>\n",
              "      <td>15600.000000</td>\n",
              "      <td>Starlink-12</td>\n",
              "      <td>VLEO</td>\n",
              "      <td>KSC LC 39A</td>\n",
              "      <td>True ASDS</td>\n",
              "      <td>3</td>\n",
              "      <td>True</td>\n",
              "      <td>...</td>\n",
              "      <td>True</td>\n",
              "      <td>5e9e3032383ecb6bb234e7ca</td>\n",
              "      <td>5.0</td>\n",
              "      <td>SpaceX</td>\n",
              "      <td>True</td>\n",
              "      <td>13</td>\n",
              "      <td>B1058</td>\n",
              "      <td>-80.603956</td>\n",
              "      <td>28.608058</td>\n",
              "      <td>1</td>\n",
              "    </tr>\n",
              "    <tr>\n",
              "      <th>87</th>\n",
              "      <td>88</td>\n",
              "      <td>2020-10-18</td>\n",
              "      <td>Falcon 9</td>\n",
              "      <td>15600.000000</td>\n",
              "      <td>Starlink-13</td>\n",
              "      <td>VLEO</td>\n",
              "      <td>KSC LC 39A</td>\n",
              "      <td>True ASDS</td>\n",
              "      <td>6</td>\n",
              "      <td>True</td>\n",
              "      <td>...</td>\n",
              "      <td>True</td>\n",
              "      <td>5e9e3032383ecb6bb234e7ca</td>\n",
              "      <td>5.0</td>\n",
              "      <td>SpaceX</td>\n",
              "      <td>True</td>\n",
              "      <td>12</td>\n",
              "      <td>B1051</td>\n",
              "      <td>-80.603956</td>\n",
              "      <td>28.608058</td>\n",
              "      <td>1</td>\n",
              "    </tr>\n",
              "    <tr>\n",
              "      <th>88</th>\n",
              "      <td>89</td>\n",
              "      <td>2020-10-24</td>\n",
              "      <td>Falcon 9</td>\n",
              "      <td>15600.000000</td>\n",
              "      <td>Starlink-14</td>\n",
              "      <td>VLEO</td>\n",
              "      <td>CCSFS SLC 40</td>\n",
              "      <td>True ASDS</td>\n",
              "      <td>3</td>\n",
              "      <td>True</td>\n",
              "      <td>...</td>\n",
              "      <td>True</td>\n",
              "      <td>5e9e3033383ecbb9e534e7cc</td>\n",
              "      <td>5.0</td>\n",
              "      <td>SpaceX</td>\n",
              "      <td>True</td>\n",
              "      <td>12</td>\n",
              "      <td>B1060</td>\n",
              "      <td>-80.577366</td>\n",
              "      <td>28.561857</td>\n",
              "      <td>1</td>\n",
              "    </tr>\n",
              "    <tr>\n",
              "      <th>89</th>\n",
              "      <td>90</td>\n",
              "      <td>2020-11-05</td>\n",
              "      <td>Falcon 9</td>\n",
              "      <td>3681.000000</td>\n",
              "      <td>GPS III SV04 (Sacagawea)</td>\n",
              "      <td>MEO</td>\n",
              "      <td>CCSFS SLC 40</td>\n",
              "      <td>True ASDS</td>\n",
              "      <td>1</td>\n",
              "      <td>True</td>\n",
              "      <td>...</td>\n",
              "      <td>True</td>\n",
              "      <td>5e9e3032383ecb6bb234e7ca</td>\n",
              "      <td>5.0</td>\n",
              "      <td>United States Space Force</td>\n",
              "      <td>True</td>\n",
              "      <td>8</td>\n",
              "      <td>B1062</td>\n",
              "      <td>-80.577366</td>\n",
              "      <td>28.561857</td>\n",
              "      <td>1</td>\n",
              "    </tr>\n",
              "  </tbody>\n",
              "</table>\n",
              "<p>90 rows × 21 columns</p>\n",
              "</div>\n",
              "      <button class=\"colab-df-convert\" onclick=\"convertToInteractive('df-e3e16b13-3c70-475f-b074-d8967d4707cf')\"\n",
              "              title=\"Convert this dataframe to an interactive table.\"\n",
              "              style=\"display:none;\">\n",
              "        \n",
              "  <svg xmlns=\"http://www.w3.org/2000/svg\" height=\"24px\"viewBox=\"0 0 24 24\"\n",
              "       width=\"24px\">\n",
              "    <path d=\"M0 0h24v24H0V0z\" fill=\"none\"/>\n",
              "    <path d=\"M18.56 5.44l.94 2.06.94-2.06 2.06-.94-2.06-.94-.94-2.06-.94 2.06-2.06.94zm-11 1L8.5 8.5l.94-2.06 2.06-.94-2.06-.94L8.5 2.5l-.94 2.06-2.06.94zm10 10l.94 2.06.94-2.06 2.06-.94-2.06-.94-.94-2.06-.94 2.06-2.06.94z\"/><path d=\"M17.41 7.96l-1.37-1.37c-.4-.4-.92-.59-1.43-.59-.52 0-1.04.2-1.43.59L10.3 9.45l-7.72 7.72c-.78.78-.78 2.05 0 2.83L4 21.41c.39.39.9.59 1.41.59.51 0 1.02-.2 1.41-.59l7.78-7.78 2.81-2.81c.8-.78.8-2.07 0-2.86zM5.41 20L4 18.59l7.72-7.72 1.47 1.35L5.41 20z\"/>\n",
              "  </svg>\n",
              "      </button>\n",
              "      \n",
              "  <style>\n",
              "    .colab-df-container {\n",
              "      display:flex;\n",
              "      flex-wrap:wrap;\n",
              "      gap: 12px;\n",
              "    }\n",
              "\n",
              "    .colab-df-convert {\n",
              "      background-color: #E8F0FE;\n",
              "      border: none;\n",
              "      border-radius: 50%;\n",
              "      cursor: pointer;\n",
              "      display: none;\n",
              "      fill: #1967D2;\n",
              "      height: 32px;\n",
              "      padding: 0 0 0 0;\n",
              "      width: 32px;\n",
              "    }\n",
              "\n",
              "    .colab-df-convert:hover {\n",
              "      background-color: #E2EBFA;\n",
              "      box-shadow: 0px 1px 2px rgba(60, 64, 67, 0.3), 0px 1px 3px 1px rgba(60, 64, 67, 0.15);\n",
              "      fill: #174EA6;\n",
              "    }\n",
              "\n",
              "    [theme=dark] .colab-df-convert {\n",
              "      background-color: #3B4455;\n",
              "      fill: #D2E3FC;\n",
              "    }\n",
              "\n",
              "    [theme=dark] .colab-df-convert:hover {\n",
              "      background-color: #434B5C;\n",
              "      box-shadow: 0px 1px 3px 1px rgba(0, 0, 0, 0.15);\n",
              "      filter: drop-shadow(0px 1px 2px rgba(0, 0, 0, 0.3));\n",
              "      fill: #FFFFFF;\n",
              "    }\n",
              "  </style>\n",
              "\n",
              "      <script>\n",
              "        const buttonEl =\n",
              "          document.querySelector('#df-e3e16b13-3c70-475f-b074-d8967d4707cf button.colab-df-convert');\n",
              "        buttonEl.style.display =\n",
              "          google.colab.kernel.accessAllowed ? 'block' : 'none';\n",
              "\n",
              "        async function convertToInteractive(key) {\n",
              "          const element = document.querySelector('#df-e3e16b13-3c70-475f-b074-d8967d4707cf');\n",
              "          const dataTable =\n",
              "            await google.colab.kernel.invokeFunction('convertToInteractive',\n",
              "                                                     [key], {});\n",
              "          if (!dataTable) return;\n",
              "\n",
              "          const docLinkHtml = 'Like what you see? Visit the ' +\n",
              "            '<a target=\"_blank\" href=https://colab.research.google.com/notebooks/data_table.ipynb>data table notebook</a>'\n",
              "            + ' to learn more about interactive tables.';\n",
              "          element.innerHTML = '';\n",
              "          dataTable['output_type'] = 'display_data';\n",
              "          await google.colab.output.renderOutput(dataTable, element);\n",
              "          const docLink = document.createElement('div');\n",
              "          docLink.innerHTML = docLinkHtml;\n",
              "          element.appendChild(docLink);\n",
              "        }\n",
              "      </script>\n",
              "    </div>\n",
              "  </div>\n",
              "  "
            ]
          },
          "metadata": {},
          "execution_count": 2
        }
      ],
      "source": [
        "df=pd.read_csv(\"./dataset_part_2.csv\")\n",
        "df"
      ]
    },
    {
      "cell_type": "markdown",
      "metadata": {
        "id": "uZrP9g44cQ-5"
      },
      "source": [
        "Dado que a estas alturas no hemos visto como visualizar datos (o quizás sí) vamos a poner un ejemplo de como realizar gráficas. Para ello utilizaremos la librería `seaborn` y `matplotlib`. En la siguiente gráfica representaremos la masa de las cargas `PayloadMass` respecto el número de vuelo `FlightNumber`. \n"
      ]
    },
    {
      "cell_type": "code",
      "execution_count": 3,
      "metadata": {
        "colab": {
          "base_uri": "https://localhost:8080/",
          "height": 378
        },
        "id": "f9b7sjYtcQ-6",
        "outputId": "1ffc106d-4247-4373-de3c-b2ff54a50399"
      },
      "outputs": [
        {
          "output_type": "display_data",
          "data": {
            "text/plain": [
              "<Figure size 720x360 with 1 Axes>"
            ],
            "image/png": "[encoded data removed]"
          },
          "metadata": {
            "needs_background": "light"
          }
        }
      ],
      "source": [
        "sns.catplot(y=\"PayloadMass\", x=\"FlightNumber\", data=df, aspect = 2)\n",
        "plt.xlabel(\"Flight Number\",fontsize=20)\n",
        "plt.ylabel(\"Pay load Mass (kg)\",fontsize=20)\n",
        "plt.show()"
      ]
    },
    {
      "cell_type": "markdown",
      "source": [
        "Parece ser que con el tiempo la masa ha ido aumentado, podemos deducir que los cohetes cada vez son más hábiles en el transporte. Pero podemos obtener mas información:"
      ],
      "metadata": {
        "id": "pLsuv66emX8w"
      }
    },
    {
      "cell_type": "code",
      "source": [
        "sns.catplot(y=\"PayloadMass\", x=\"FlightNumber\", hue=\"Class\", data=df, aspect = 2)\n",
        "plt.xlabel(\"Flight Number\",fontsize=20)\n",
        "plt.ylabel(\"Pay load Mass (kg)\",fontsize=20)\n",
        "plt.show()"
      ],
      "metadata": {
        "colab": {
          "base_uri": "https://localhost:8080/",
          "height": 378
        },
        "id": "o3Ap52nkmlkW",
        "outputId": "24bb4263-5380-4378-bcc9-ec9835d484ca"
      },
      "execution_count": null,
      "outputs": [
        {
          "output_type": "display_data",
          "data": {
            "text/plain": [
              "<Figure size 762.375x360 with 1 Axes>"
            ],
            "image/png": "[encoded data removed]"
          },
          "metadata": {
            "needs_background": "light"
          }
        }
      ]
    },
    {
      "cell_type": "markdown",
      "source": [
        "Ahora podemos diferenciar aquellos que han sido un éxito y los que no. Podemos ver que los últimos vuelos, además de que tener transportar más carga han sido un éxito la mayoría, SpaceX esta en racha."
      ],
      "metadata": {
        "id": "WUDL397sm4SA"
      }
    },
    {
      "cell_type": "markdown",
      "metadata": {
        "id": "0wuY12SYcQ-7"
      },
      "source": [
        "### Ejercicio 1: Visualiza la relación entre el número de vuelo y la plataforma de despegue."
      ]
    },
    {
      "cell_type": "markdown",
      "metadata": {
        "id": "SftpmDRccQ-7"
      },
      "source": [
        "Basándote en el código del ejemplo anterior visualiza la relación entre `FlightNumber` y `LaunchSite` utilizando la variable `Class` para el color. "
      ]
    },
    {
      "cell_type": "code",
      "execution_count": 5,
      "metadata": {
        "colab": {
          "base_uri": "https://localhost:8080/",
          "height": 378
        },
        "id": "C8-NWSXecQ-8",
        "outputId": "1f92386c-a2ba-432f-cd0f-1d1c55a1ee55"
      },
      "outputs": [
        {
          "output_type": "display_data",
          "data": {
            "text/plain": [
              "<Figure size 762.375x360 with 1 Axes>"
            ],
            "image/png": "[encoded data removed]"
          },
          "metadata": {
            "needs_background": "light"
          }
        }
      ],
      "source": [
        "#INSERTA AQUÍ TU CÓDIGO\n",
        "sns.catplot(y=\"LaunchSite\", x=\"FlightNumber\", hue=\"Class\", data=df, aspect = 2)\n",
        "plt.xlabel(\"Flight Number\",fontsize=20)\n",
        "plt.ylabel(\"LaunchSite\",fontsize=20)\n",
        "plt.show()"
      ]
    },
    {
      "cell_type": "markdown",
      "metadata": {
        "id": "6OQln15gcQ-8"
      },
      "source": [
        "¿Ves algún patrón en los datos? Intenta elaborar tu respuesta."
      ]
    },
    {
      "cell_type": "markdown",
      "metadata": {
        "id": "fubnkLd5cQ-8"
      },
      "source": [
        "### Ejercicio 2: Visualiza la relación entre masa de la carga y la plataforma"
      ]
    },
    {
      "cell_type": "markdown",
      "metadata": {
        "id": "jadyaAO-cQ-9"
      },
      "source": [
        "Basándote en el código del ejemplo anterior visualiza la relación entre `LaunchSite` y `PayloadMass` utilizando la variable `Class` para el color. \n"
      ]
    },
    {
      "cell_type": "code",
      "execution_count": 6,
      "metadata": {
        "colab": {
          "base_uri": "https://localhost:8080/",
          "height": 378
        },
        "id": "UHQXpdQgcQ-9",
        "outputId": "95abf70a-f487-447d-b936-781dc9a2ca6a"
      },
      "outputs": [
        {
          "output_type": "display_data",
          "data": {
            "text/plain": [
              "<Figure size 762.375x360 with 1 Axes>"
            ],
            "image/png": "[encoded data removed]"
          },
          "metadata": {
            "needs_background": "light"
          }
        }
      ],
      "source": [
        "#INSERTA AQUÍ TU CÓDIGO\n",
        "sns.catplot(y=\"LaunchSite\", x=\"PayloadMass\", hue=\"Class\", data=df, aspect = 2)\n",
        "plt.xlabel(\"PayLoadMass\",fontsize=20)\n",
        "plt.ylabel(\"LaunchSite\",fontsize=20)\n",
        "plt.show()"
      ]
    },
    {
      "cell_type": "markdown",
      "metadata": {
        "id": "6iLk2KR4cQ-9"
      },
      "source": [
        "¿Ves algún patrón en los datos? Intenta elaborar tu respuesta."
      ]
    },
    {
      "cell_type": "markdown",
      "metadata": {
        "id": "JfipGmjycQ_C"
      },
      "source": [
        "### Ejercicio  3: Visualiza la relación entre número de vuelos y órbita\n"
      ]
    },
    {
      "cell_type": "markdown",
      "metadata": {
        "id": "568bR9nCcQ_D"
      },
      "source": [
        "Basándote en el código del ejemplo anterior visualiza la relación entre `FlightNumber` y `Orbit` utilizando la variable `Class` para el color. "
      ]
    },
    {
      "cell_type": "code",
      "execution_count": 7,
      "metadata": {
        "colab": {
          "base_uri": "https://localhost:8080/",
          "height": 378
        },
        "id": "QOIgGRbEcQ_D",
        "outputId": "cb47b767-25be-4387-ce25-0a9ea8b0a24b"
      },
      "outputs": [
        {
          "output_type": "display_data",
          "data": {
            "text/plain": [
              "<Figure size 762.375x360 with 1 Axes>"
            ],
            "image/png": "[encoded data removed]"
          },
          "metadata": {
            "needs_background": "light"
          }
        }
      ],
      "source": [
        "#INSERTA AQUÍ TU CÓDIGO\n",
        "sns.catplot(y=\"Orbit\", x=\"FlightNumber\", hue=\"Class\", data=df, aspect = 2)\n",
        "plt.xlabel(\"FlightNumber\",fontsize=20)\n",
        "plt.ylabel(\"Orbit\",fontsize=20)\n",
        "plt.show()"
      ]
    },
    {
      "cell_type": "markdown",
      "metadata": {
        "id": "oT0AZrTncQ_D"
      },
      "source": [
        "¿Ves algún patrón en los datos? Intenta elaborar tu respuesta.\n"
      ]
    },
    {
      "cell_type": "markdown",
      "metadata": {
        "id": "6t_H82HwcQ_E"
      },
      "source": [
        "### Ejercicio  4: Visualiza la relación entre órbita y masa de la carga\n"
      ]
    },
    {
      "cell_type": "markdown",
      "metadata": {
        "id": "vUbxhHoycQ_E"
      },
      "source": [
        "Basándote en el código del ejemplo anterior visualiza la relación entre `PayloadMass` y `Orbit` utilizando la variable `Class` para el color. "
      ]
    },
    {
      "cell_type": "code",
      "execution_count": 8,
      "metadata": {
        "colab": {
          "base_uri": "https://localhost:8080/",
          "height": 378
        },
        "id": "rBm_kS-KcQ_F",
        "outputId": "dcfcc143-d2fb-4644-eea3-3852d1b92def"
      },
      "outputs": [
        {
          "output_type": "display_data",
          "data": {
            "text/plain": [
              "<Figure size 762.375x360 with 1 Axes>"
            ],
            "image/png": "[encoded data removed]"
          },
          "metadata": {
            "needs_background": "light"
          }
        }
      ],
      "source": [
        "#INSERTA AQUÍ TU CÓDIGO\n",
        "sns.catplot(y=\"Orbit\", x=\"PayloadMass\", hue=\"Class\", data=df, aspect = 2)\n",
        "plt.xlabel(\"PayLoadMass\",fontsize=20)\n",
        "plt.ylabel(\"Orbit\",fontsize=20)\n",
        "plt.show()"
      ]
    },
    {
      "cell_type": "markdown",
      "metadata": {
        "id": "3XCDa_umcQ_F"
      },
      "source": [
        "¿Ves algún patrón en los datos? Intenta elaborar tu respuesta."
      ]
    },
    {
      "cell_type": "markdown",
      "metadata": {
        "id": "LJgoENIScQ--"
      },
      "source": [
        "### Ejemplo  2: Visualiza la proabilidad de éxito según la órbita \n"
      ]
    },
    {
      "cell_type": "markdown",
      "metadata": {
        "id": "P1K3E8ddcQ--"
      },
      "source": [
        "Cuatro ejercicios iguales son suficientes, por lo que hagamos algo diferente. Vamos a crear un gráfico de barras que muestren los resultados obtenidos en el análisis exploratorio anterior. Hagamos un repaso:\n"
      ]
    },
    {
      "cell_type": "markdown",
      "source": [
        "Con `df.groupby('Orbit')` tenemos el datframe agrupado según las órbitas. Nos quedamos con la columna `Class` y calculamos el valor medio de esta columna para obtener las probabildiades de éxito según orbita."
      ],
      "metadata": {
        "id": "9jCIVIxmp7AL"
      }
    },
    {
      "cell_type": "code",
      "execution_count": 9,
      "metadata": {
        "colab": {
          "base_uri": "https://localhost:8080/"
        },
        "id": "4kzLj4NscQ_B",
        "outputId": "588fd187-a542-4ec7-daa1-6ce5ea92b8ca"
      },
      "outputs": [
        {
          "output_type": "execute_result",
          "data": {
            "text/plain": [
              "Orbit\n",
              "ES-L1    1.000000\n",
              "GEO      1.000000\n",
              "GTO      0.518519\n",
              "HEO      1.000000\n",
              "ISS      0.619048\n",
              "LEO      0.714286\n",
              "MEO      0.666667\n",
              "PO       0.666667\n",
              "SO       0.000000\n",
              "SSO      1.000000\n",
              "VLEO     0.857143\n",
              "Name: Class, dtype: float64"
            ]
          },
          "metadata": {},
          "execution_count": 9
        }
      ],
      "source": [
        "df_groupby_orbits = df.groupby('Orbit')[\"Class\"].mean()\n",
        "df_groupby_orbits"
      ]
    },
    {
      "cell_type": "markdown",
      "source": [
        "Estos valores podemos ordenarlos con el método `.sort_values()`"
      ],
      "metadata": {
        "id": "eZKEXWH8pxMa"
      }
    },
    {
      "cell_type": "code",
      "source": [
        "df_groupby_orbits=df_groupby_orbits.sort_values()\n",
        "df_groupby_orbits"
      ],
      "metadata": {
        "colab": {
          "base_uri": "https://localhost:8080/"
        },
        "id": "58xGN_bUqWl2",
        "outputId": "1d366b0c-ac7f-4c20-b88c-7d9bb56c9448"
      },
      "execution_count": 10,
      "outputs": [
        {
          "output_type": "execute_result",
          "data": {
            "text/plain": [
              "Orbit\n",
              "SO       0.000000\n",
              "GTO      0.518519\n",
              "ISS      0.619048\n",
              "MEO      0.666667\n",
              "PO       0.666667\n",
              "LEO      0.714286\n",
              "VLEO     0.857143\n",
              "ES-L1    1.000000\n",
              "GEO      1.000000\n",
              "HEO      1.000000\n",
              "SSO      1.000000\n",
              "Name: Class, dtype: float64"
            ]
          },
          "metadata": {},
          "execution_count": 10
        }
      ]
    },
    {
      "cell_type": "markdown",
      "source": [
        "Y ahora obtenemos una serie de pandas. Para poder realizar una gráfica necesitamos un dataframe por lo que aplicamos el método `.reset_index()`"
      ],
      "metadata": {
        "id": "d9e5RPg_qvtW"
      }
    },
    {
      "cell_type": "code",
      "source": [
        "df_groupby_orbits=df_groupby_orbits.reset_index()"
      ],
      "metadata": {
        "id": "ZoTtUb-xq_pn"
      },
      "execution_count": 11,
      "outputs": []
    },
    {
      "cell_type": "code",
      "execution_count": 14,
      "metadata": {
        "colab": {
          "base_uri": "https://localhost:8080/",
          "height": 313
        },
        "id": "Nfa16F4QcQ_B",
        "outputId": "3c9d561b-b73e-4155-efd3-ac40df31a33c"
      },
      "outputs": [
        {
          "output_type": "display_data",
          "data": {
            "text/plain": [
              "<Figure size 432x288 with 1 Axes>"
            ],
            "image/png": "[encoded data removed]"
          },
          "metadata": {
            "needs_background": "light"
          }
        }
      ],
      "source": [
        "ax = sns.barplot(x = 'Orbit', y = 'Class', data=df_groupby_orbits)\n",
        "ax.set_title('Plot of success rate by class of each Orbits', fontdict={'size':12})\n",
        "ax.set_ylabel('Success rate', fontsize = 10)\n",
        "ax.set_xlabel('Orbits', fontsize = 10)\n",
        "ax.set_xticklabels(ax.get_xticklabels(), fontsize = 10, rotation=90);"
      ]
    },
    {
      "cell_type": "markdown",
      "metadata": {
        "id": "lsfbLAihcQ_C"
      },
      "source": [
        "A las personas les encantan los gráficos y creen la mayoría de lo que ven. Si mostrasemos el gráfico anterior a cualquier persona pensaría que los lanzamientos a la órbita SO han fallado siempre y fallarán siempre mientras que los lanzamientos a SSO nunca han fallado ni fallarán probablemente. Un poco lejos de la realidad. Deberíamos elminar aquellas órbitas con pocos lanzamientos y después tomar este tipo de decisiones."
      ]
    },
    {
      "cell_type": "markdown",
      "metadata": {
        "id": "LVzL6Jn5skfQ"
      },
      "source": [
        "### Ejercicio  5: Visualiza la proabilidad de éxito según la plataforma \n"
      ]
    },
    {
      "cell_type": "markdown",
      "source": [
        "Agrupa los datos según la plataforma de lanzamiento y calcula la media de éxito. Llama a esta serie `df_groupby_ls`"
      ],
      "metadata": {
        "id": "MaC7WEOTskfa"
      }
    },
    {
      "cell_type": "code",
      "execution_count": 19,
      "metadata": {
        "colab": {
          "base_uri": "https://localhost:8080/"
        },
        "outputId": "10866c5b-3881-4889-ee72-8bd80df704bc",
        "id": "iQhYYgkyskfa"
      },
      "outputs": [
        {
          "output_type": "execute_result",
          "data": {
            "text/plain": [
              "LaunchSite\n",
              "CCSFS SLC 40    0.600000\n",
              "KSC LC 39A      0.772727\n",
              "VAFB SLC 4E     0.769231\n",
              "Name: Class, dtype: float64"
            ]
          },
          "metadata": {},
          "execution_count": 19
        }
      ],
      "source": [
        "#INSERTA AQUÍ TU CÓDIGO\n",
        "df_groupby_ls = df.groupby('LaunchSite')['Class'].mean()\n",
        "df_groupby_ls"
      ]
    },
    {
      "cell_type": "markdown",
      "source": [
        "Ordenalos con el método `.sort_values()`"
      ],
      "metadata": {
        "id": "Cg2HyikYskfa"
      }
    },
    {
      "cell_type": "code",
      "source": [
        "#INSERTA AQUÍ TU CÓDIGO\n",
        "df_groupby_ls = df_groupby_ls.sort_values()\n",
        "df_groupby_ls"
      ],
      "metadata": {
        "colab": {
          "base_uri": "https://localhost:8080/"
        },
        "outputId": "4e070f6b-3d5a-4439-f8b7-cbcb1d6de5e5",
        "id": "HENEQn3askfa"
      },
      "execution_count": 22,
      "outputs": [
        {
          "output_type": "execute_result",
          "data": {
            "text/plain": [
              "LaunchSite\n",
              "CCSFS SLC 40    0.600000\n",
              "VAFB SLC 4E     0.769231\n",
              "KSC LC 39A      0.772727\n",
              "Name: Class, dtype: float64"
            ]
          },
          "metadata": {},
          "execution_count": 22
        }
      ]
    },
    {
      "cell_type": "markdown",
      "source": [
        "Y ahora obtenemos una serie de pandas. Para poder realizar una gráfica necesitamos un dataframe por lo que aplicamos el método `.reset_index()`"
      ],
      "metadata": {
        "id": "cVlBNn0Oskfb"
      }
    },
    {
      "cell_type": "code",
      "source": [
        "#INSERTA AQUÍ TU CÓDIGO\n",
        "df_groupby_ls = df_groupby_ls.reset_index()\n",
        "df_groupby_ls"
      ],
      "metadata": {
        "id": "YukZDw2Dskfb",
        "colab": {
          "base_uri": "https://localhost:8080/",
          "height": 143
        },
        "outputId": "5a46edec-30af-4911-a7f6-6fd2eb546bcc"
      },
      "execution_count": 25,
      "outputs": [
        {
          "output_type": "execute_result",
          "data": {
            "text/plain": [
              "   index    LaunchSite     Class\n",
              "0      0  CCSFS SLC 40  0.600000\n",
              "1      1   VAFB SLC 4E  0.769231\n",
              "2      2    KSC LC 39A  0.772727"
            ],
            "text/html": [
              "\n",
              "  <div id=\"df-12643751-6f02-465b-8a51-7687914c1cd5\">\n",
              "    <div class=\"colab-df-container\">\n",
              "      <div>\n",
              "<style scoped>\n",
              "    .dataframe tbody tr th:only-of-type {\n",
              "        vertical-align: middle;\n",
              "    }\n",
              "\n",
              "    .dataframe tbody tr th {\n",
              "        vertical-align: top;\n",
              "    }\n",
              "\n",
              "    .dataframe thead th {\n",
              "        text-align: right;\n",
              "    }\n",
              "</style>\n",
              "<table border=\"1\" class=\"dataframe\">\n",
              "  <thead>\n",
              "    <tr style=\"text-align: right;\">\n",
              "      <th></th>\n",
              "      <th>index</th>\n",
              "      <th>LaunchSite</th>\n",
              "      <th>Class</th>\n",
              "    </tr>\n",
              "  </thead>\n",
              "  <tbody>\n",
              "    <tr>\n",
              "      <th>0</th>\n",
              "      <td>0</td>\n",
              "      <td>CCSFS SLC 40</td>\n",
              "      <td>0.600000</td>\n",
              "    </tr>\n",
              "    <tr>\n",
              "      <th>1</th>\n",
              "      <td>1</td>\n",
              "      <td>VAFB SLC 4E</td>\n",
              "      <td>0.769231</td>\n",
              "    </tr>\n",
              "    <tr>\n",
              "      <th>2</th>\n",
              "      <td>2</td>\n",
              "      <td>KSC LC 39A</td>\n",
              "      <td>0.772727</td>\n",
              "    </tr>\n",
              "  </tbody>\n",
              "</table>\n",
              "</div>\n",
              "      <button class=\"colab-df-convert\" onclick=\"convertToInteractive('df-12643751-6f02-465b-8a51-7687914c1cd5')\"\n",
              "              title=\"Convert this dataframe to an interactive table.\"\n",
              "              style=\"display:none;\">\n",
              "        \n",
              "  <svg xmlns=\"http://www.w3.org/2000/svg\" height=\"24px\"viewBox=\"0 0 24 24\"\n",
              "       width=\"24px\">\n",
              "    <path d=\"M0 0h24v24H0V0z\" fill=\"none\"/>\n",
              "    <path d=\"M18.56 5.44l.94 2.06.94-2.06 2.06-.94-2.06-.94-.94-2.06-.94 2.06-2.06.94zm-11 1L8.5 8.5l.94-2.06 2.06-.94-2.06-.94L8.5 2.5l-.94 2.06-2.06.94zm10 10l.94 2.06.94-2.06 2.06-.94-2.06-.94-.94-2.06-.94 2.06-2.06.94z\"/><path d=\"M17.41 7.96l-1.37-1.37c-.4-.4-.92-.59-1.43-.59-.52 0-1.04.2-1.43.59L10.3 9.45l-7.72 7.72c-.78.78-.78 2.05 0 2.83L4 21.41c.39.39.9.59 1.41.59.51 0 1.02-.2 1.41-.59l7.78-7.78 2.81-2.81c.8-.78.8-2.07 0-2.86zM5.41 20L4 18.59l7.72-7.72 1.47 1.35L5.41 20z\"/>\n",
              "  </svg>\n",
              "      </button>\n",
              "      \n",
              "  <style>\n",
              "    .colab-df-container {\n",
              "      display:flex;\n",
              "      flex-wrap:wrap;\n",
              "      gap: 12px;\n",
              "    }\n",
              "\n",
              "    .colab-df-convert {\n",
              "      background-color: #E8F0FE;\n",
              "      border: none;\n",
              "      border-radius: 50%;\n",
              "      cursor: pointer;\n",
              "      display: none;\n",
              "      fill: #1967D2;\n",
              "      height: 32px;\n",
              "      padding: 0 0 0 0;\n",
              "      width: 32px;\n",
              "    }\n",
              "\n",
              "    .colab-df-convert:hover {\n",
              "      background-color: #E2EBFA;\n",
              "      box-shadow: 0px 1px 2px rgba(60, 64, 67, 0.3), 0px 1px 3px 1px rgba(60, 64, 67, 0.15);\n",
              "      fill: #174EA6;\n",
              "    }\n",
              "\n",
              "    [theme=dark] .colab-df-convert {\n",
              "      background-color: #3B4455;\n",
              "      fill: #D2E3FC;\n",
              "    }\n",
              "\n",
              "    [theme=dark] .colab-df-convert:hover {\n",
              "      background-color: #434B5C;\n",
              "      box-shadow: 0px 1px 3px 1px rgba(0, 0, 0, 0.15);\n",
              "      filter: drop-shadow(0px 1px 2px rgba(0, 0, 0, 0.3));\n",
              "      fill: #FFFFFF;\n",
              "    }\n",
              "  </style>\n",
              "\n",
              "      <script>\n",
              "        const buttonEl =\n",
              "          document.querySelector('#df-12643751-6f02-465b-8a51-7687914c1cd5 button.colab-df-convert');\n",
              "        buttonEl.style.display =\n",
              "          google.colab.kernel.accessAllowed ? 'block' : 'none';\n",
              "\n",
              "        async function convertToInteractive(key) {\n",
              "          const element = document.querySelector('#df-12643751-6f02-465b-8a51-7687914c1cd5');\n",
              "          const dataTable =\n",
              "            await google.colab.kernel.invokeFunction('convertToInteractive',\n",
              "                                                     [key], {});\n",
              "          if (!dataTable) return;\n",
              "\n",
              "          const docLinkHtml = 'Like what you see? Visit the ' +\n",
              "            '<a target=\"_blank\" href=https://colab.research.google.com/notebooks/data_table.ipynb>data table notebook</a>'\n",
              "            + ' to learn more about interactive tables.';\n",
              "          element.innerHTML = '';\n",
              "          dataTable['output_type'] = 'display_data';\n",
              "          await google.colab.output.renderOutput(dataTable, element);\n",
              "          const docLink = document.createElement('div');\n",
              "          docLink.innerHTML = docLinkHtml;\n",
              "          element.appendChild(docLink);\n",
              "        }\n",
              "      </script>\n",
              "    </div>\n",
              "  </div>\n",
              "  "
            ]
          },
          "metadata": {},
          "execution_count": 25
        }
      ]
    },
    {
      "cell_type": "markdown",
      "source": [
        "Realiza la gáfica:"
      ],
      "metadata": {
        "id": "rFuBBfFw03hj"
      }
    },
    {
      "cell_type": "code",
      "execution_count": 28,
      "metadata": {
        "colab": {
          "base_uri": "https://localhost:8080/",
          "height": 355
        },
        "outputId": "4485a42a-64df-4bbd-ea0e-97f46bc4366e",
        "id": "OI95APFlskfb"
      },
      "outputs": [
        {
          "output_type": "display_data",
          "data": {
            "text/plain": [
              "<Figure size 432x288 with 1 Axes>"
            ],
            "image/png": "[encoded data removed]"
          },
          "metadata": {
            "needs_background": "light"
          }
        }
      ],
      "source": [
        "#INSERTA AQUÍ TU CÓDIGO\n",
        "ax = sns.barplot(x = 'LaunchSite', y = 'Class', data=df_groupby_ls)\n",
        "ax.set_title('Plot of success rate by class of each LaunchSite', fontdict={'size':12})\n",
        "ax.set_ylabel('Success rate', fontsize = 10)\n",
        "ax.set_xlabel('LaunchSite', fontsize = 10)\n",
        "ax.set_xticklabels(ax.get_xticklabels(), fontsize = 10, rotation=90);"
      ]
    },
    {
      "cell_type": "markdown",
      "metadata": {
        "id": "ntD3BrnUskfb"
      },
      "source": [
        "Comenta el gráfico anterior."
      ]
    },
    {
      "cell_type": "markdown",
      "metadata": {
        "id": "qJbVGGwecQ_G"
      },
      "source": [
        "### Ejemplo 3: Visualizar la evolución de la carga con el tiempo\n"
      ]
    },
    {
      "cell_type": "markdown",
      "metadata": {
        "id": "dEBcYrj_cQ_G"
      },
      "source": [
        "\n",
        "El último tipo de gráfico que vamos a ver es un gráfico de linea para visualizar series temporales. Vamos a comparar la masa de la carga con los años."
      ]
    },
    {
      "cell_type": "markdown",
      "metadata": {
        "id": "oLXJdX60cQ_G"
      },
      "source": [
        "Primero, observemos que la fecha es completa, no solo el año, por lo que debemos crear una nueva columna con el año únicamente. Pandas tiene una función muy útil llamada DatetimeIndex que nos permite seleccionar el año como método de esta función. Veamoslo:\n"
      ]
    },
    {
      "cell_type": "code",
      "source": [
        "pd.DatetimeIndex(df[\"Date\"]).year"
      ],
      "metadata": {
        "colab": {
          "base_uri": "https://localhost:8080/"
        },
        "id": "m9M2VEhguKL8",
        "outputId": "9ffa208d-4387-40e5-fb64-0e1f89b27f32"
      },
      "execution_count": 32,
      "outputs": [
        {
          "output_type": "execute_result",
          "data": {
            "text/plain": [
              "Int64Index([2010, 2012, 2013, 2013, 2013, 2014, 2014, 2014, 2014, 2014, 2014,\n",
              "            2015, 2015, 2015, 2015, 2015, 2015, 2016, 2016, 2016, 2016, 2016,\n",
              "            2016, 2016, 2016, 2017, 2017, 2017, 2017, 2017, 2017, 2017, 2017,\n",
              "            2017, 2017, 2017, 2017, 2017, 2017, 2017, 2017, 2017, 2017, 2018,\n",
              "            2018, 2018, 2018, 2018, 2018, 2018, 2018, 2018, 2018, 2018, 2018,\n",
              "            2018, 2018, 2018, 2018, 2018, 2018, 2019, 2019, 2019, 2019, 2019,\n",
              "            2019, 2019, 2019, 2019, 2019, 2020, 2020, 2020, 2020, 2020, 2020,\n",
              "            2020, 2020, 2020, 2020, 2020, 2020, 2020, 2020, 2020, 2020, 2020,\n",
              "            2020, 2020],\n",
              "           dtype='int64', name='Date')"
            ]
          },
          "metadata": {},
          "execution_count": 32
        }
      ]
    },
    {
      "cell_type": "markdown",
      "source": [
        "Así pues, crear una nueva columna es sencillo:"
      ],
      "metadata": {
        "id": "JuYjp7f5un7l"
      }
    },
    {
      "cell_type": "code",
      "source": [
        "df[\"Year\"] = pd.DatetimeIndex(df[\"Date\"]).year"
      ],
      "metadata": {
        "id": "rYd0tashuqsh"
      },
      "execution_count": 33,
      "outputs": []
    },
    {
      "cell_type": "code",
      "execution_count": 34,
      "metadata": {
        "colab": {
          "base_uri": "https://localhost:8080/",
          "height": 295
        },
        "id": "K55HR1SScQ_H",
        "outputId": "3680d683-1dc6-47cf-fdc3-eeb7a81f8446"
      },
      "outputs": [
        {
          "output_type": "display_data",
          "data": {
            "text/plain": [
              "<Figure size 432x288 with 1 Axes>"
            ],
            "image/png": "[encoded data removed]"
          },
          "metadata": {
            "needs_background": "light"
          }
        }
      ],
      "source": [
        "sns.lineplot(data=df, x='Year', y='PayloadMass')\n",
        "plt.title('Plot of Payload Mass yearly trend');\n",
        "plt.show()"
      ]
    },
    {
      "cell_type": "markdown",
      "metadata": {
        "id": "hDZ88CmKcQ_H"
      },
      "source": [
        "Podemos observar que desde 2012 la masa transportada tiene una tendencia ascendente. En el gráfico se muestra la media como una linea de color oscuro, y un intervalo de confianza del 95% de color mas claro. Viendo este gráfico podemos afirmar que para cada año el 95% de los lanzamientos tenian un valor en ese intervalo. Esto se hace para evitar valores extremos en el gráfico."
      ]
    },
    {
      "cell_type": "markdown",
      "source": [
        "### Ejercicio 6: Visualización de la probabilidad de éxito en cada mes."
      ],
      "metadata": {
        "id": "bsFBT_rYw0Dr"
      }
    },
    {
      "cell_type": "markdown",
      "source": [
        "Utiliza el ejemplo anterior para crear una nueva columna llamada \"Month\" donde se retrate el mes de cada lanzamiento. Reliza la gráfica de la columna `Class` en función de la columna `Month`. ¿Tiene SpaceX meses mejores y peores?"
      ],
      "metadata": {
        "id": "IwwFFCT9w57M"
      }
    },
    {
      "cell_type": "code",
      "source": [
        "#INSERTA AQUI TU CÓDIGO\n",
        "df[\"Month\"] = pd.DatetimeIndex(df[\"Date\"]).month\n",
        "sns.lineplot(data=df, x='Month', y='Class')\n",
        "plt.title('Plot of Class yearly trend');\n",
        "plt.show()"
      ],
      "metadata": {
        "id": "8zrfhVYgxdUu",
        "colab": {
          "base_uri": "https://localhost:8080/",
          "height": 295
        },
        "outputId": "8e53042f-7fb1-4bd7-9c59-0684fa02b878"
      },
      "execution_count": 36,
      "outputs": [
        {
          "output_type": "display_data",
          "data": {
            "text/plain": [
              "<Figure size 432x288 with 1 Axes>"
            ],
            "image/png": "[encoded data removed]"
          },
          "metadata": {
            "needs_background": "light"
          }
        }
      ]
    },
    {
      "cell_type": "markdown",
      "source": [
        "### Ejercicio 7 : Visualización de la probabilidad de éxito con el tiempo\n",
        "\n",
        "Realiza un gráfico de linea que muestre como ha evolucionado la prbabilidad de éxito con el tiempo:"
      ],
      "metadata": {
        "id": "xFt7nWF8yGjL"
      }
    },
    {
      "cell_type": "code",
      "source": [
        "#INSERTA AQUÍ TU CÓDIGO\n",
        "sns.lineplot(data=df, x='Class', y='Year')\n",
        "plt.title('Plot of Class yearly trend');\n",
        "plt.show()"
      ],
      "metadata": {
        "id": "uOLzHarbyZaM",
        "colab": {
          "base_uri": "https://localhost:8080/",
          "height": 295
        },
        "outputId": "c98f3667-226e-41b8-df4f-76b31e151b67"
      },
      "execution_count": 41,
      "outputs": [
        {
          "output_type": "display_data",
          "data": {
            "text/plain": [
              "<Figure size 432x288 with 1 Axes>"
            ],
            "image/png": "[encoded data removed]"
          },
          "metadata": {
            "needs_background": "light"
          }
        }
      ]
    },
    {
      "cell_type": "code",
      "source": [
        "sns.lineplot(data=df, x='Class', y='Date')\n",
        "plt.title('Plot of Class yearly trend');\n",
        "plt.show()"
      ],
      "metadata": {
        "id": "WIgLG9UnVkCD"
      },
      "execution_count": null,
      "outputs": []
    },
    {
      "cell_type": "markdown",
      "source": [
        "**Conclusión: Si recordamos algo de la práctica 2 la probabilidad de éxito que obtuvimos en ese momento fue de un 0.66. Si nos preguntasen ahora la probabilidad de éxito nuestra predicción seguramente fuese algo mayor viendo como ha ido mejorando año tras año. La ciencia de datos es lo que nos permite realizar este tipo de afirmaciones con fundamento y cuanto más sepamos mejor será nuestra predicción. En el siguiente curso se verán diferentes métodos de machine learning para realizar predicciones. Ahí podremos afirmar con precisión cual será la probabilidad de éxito y cual será la proabilidad de que fallemos nuestra predicción.**"
      ],
      "metadata": {
        "id": "ISDnuxB4yY_J"
      }
    }
  ],
  "metadata": {
    "kernelspec": {
      "display_name": "Python 3.9.8 64-bit ('ibmierda')",
      "language": "python",
      "name": "python3"
    },
    "language_info": {
      "codemirror_mode": {
        "name": "ipython",
        "version": 3
      },
      "file_extension": ".py",
      "mimetype": "text/x-python",
      "name": "python",
      "nbconvert_exporter": "python",
      "pygments_lexer": "ipython3",
      "version": "3.9.8"
    },
    "vscode": {
      "interpreter": {
        "hash": "06669450a20e2437c01e88e64dc68c8dfa788e15199dfc60591c3e13974a3c24"
      }
    },
    "colab": {
      "provenance": [],
      "collapsed_sections": [
        "qJbVGGwecQ_G"
      ]
    }
  },
  "nbformat": 4,
  "nbformat_minor": 0
}